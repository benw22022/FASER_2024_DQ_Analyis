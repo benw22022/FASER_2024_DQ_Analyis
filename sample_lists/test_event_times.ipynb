{
 "cells": [
  {
   "cell_type": "code",
   "execution_count": 3,
   "metadata": {},
   "outputs": [],
   "source": [
    "import glob\n",
    "import json\n",
    "import uproot\n",
    "from tqdm.notebook import tqdm"
   ]
  },
  {
   "cell_type": "code",
   "execution_count": 4,
   "metadata": {},
   "outputs": [],
   "source": [
    "with open(\"/cvmfs/faser.cern.ch/repo/sw/runlist/v8/faser_goodrunlist_2024_stable.json\", 'r') as f:\n",
    "        grl_dict = json.load(f)"
   ]
  },
  {
   "cell_type": "code",
   "execution_count": 5,
   "metadata": {},
   "outputs": [
    {
     "name": "stdout",
     "output_type": "stream",
     "text": [
      "dict_keys(['14587', '14588', '14589', '14590', '14593', '14597', '14618', '14644', '14645', '14647', '14706', '14733', '14743', '14758', '14760', '14763', '14764', '14765', '14766', '14767', '14769', '14771', '14776', '14777', '14797', '14799', '14804', '14809', '14810', '14904', '14905', '14906', '14954', '14971', '14972', '14973', '14974', '14975', '14976', '14977', '14980', '14981', '14985', '14989', '15007', '15015', '15016', '15023', '15024', '15025', '15031', '15032', '15034', '15050', '15051', '15052', '15055', '15059', '15075', '15146', '15181', '15257', '15259', '15260', '15267', '15269', '15270', '15287', '15289', '15290', '15387', '15388', '15390', '15391', '15394', '15396', '15398', '15415', '15418', '15421', '15422', '15424', '15425', '15429', '15432', '15434', '15438', '15439', '15443', '15445', '15446', '15455', '15553', '15676', '15678', '15679', '15681', '15683', '15685', '15687', '15688', '15691', '15694', '15723', '15749', '15751', '15754', '15755', '15758', '15762', '15763', '15765', '15766', '15782', '15784', '15785', '15786', '15787', '15789', '15790', '15814', '15816', '15818', '15820', '15838', '15839', '15840', '15844', '15849', '15850', '15868', '15873', '15874', '15877', '15878', '15882', '15883', '15884', '15902', '15903', '15904', '15909', '15912', '15913', '15915', '15917', '15918', '15919', '15945', '15946', '15948', '15949', '15950', '15951', '15953', '15955', '15956', '15957', '15961', '15963', '15967', '15975', '15977', '15993', '15994', '15996', '15997', '15998', '16000', '16001', '16018', '16022', '16023', '16024', '16028', '16042', '16043', '16057', '16060', '16064', '16065', '16068', '16071', '16072', '16073', '16075', '16076', '16077', '16096', '16098', '16099', '16100', '16102', '16103', '16393', '16394', '16396', '16400', '16403', '16405', '16517', '16522', '16523', '16531', '16533', '16542', '16558', '16564', '16581', '16628', '16635', '16648', '16649', '16650', '16653', '16657', '16658', '16659', '16660', '16661', '16662', '16663', '16664', '16665', '16667', '16669', '16684', '16685', '16687', '16690', '16693', '16696', '16697', '16698', '16699', '16700', '16715', '16716', '16730', '16731', '16732', '16798', '16800', '16802', '16805', '16806', '16848', '16850', '16851', '16852', '16853', '16901', '16916', '16923', '16929', '16930', '16931', '16932', '16934', '16936', '16937', '16938', '16939', '16940', '16941', '16943', '16963', '16972', '16974', '17018', '17023', '17095', '17102', '17127', '17147', '17199', '17230'])\n"
     ]
    }
   ],
   "source": [
    "print(grl_dict.keys())"
   ]
  },
  {
   "cell_type": "code",
   "execution_count": 6,
   "metadata": {},
   "outputs": [],
   "source": [
    "def get_timing_cut_eff(data, start_time, stop_time):\n",
    "    all_events = data['eventTime']\n",
    "    good_events = data['eventTime'][(start_time <= data['eventTime']) & (data['eventTime'] <= stop_time)]\n",
    "\n",
    "    return len(good_events) / len(all_events)"
   ]
  },
  {
   "cell_type": "code",
   "execution_count": null,
   "metadata": {},
   "outputs": [
    {
     "data": {
      "application/vnd.jupyter.widget-view+json": {
       "model_id": "54c712933aa045e5bc7594d32ac42e2c",
       "version_major": 2,
       "version_minor": 0
      },
      "text/plain": [
       "  0%|          | 0/277 [00:00<?, ?it/s]"
      ]
     },
     "metadata": {},
     "output_type": "display_data"
    },
    {
     "name": "stdout",
     "output_type": "stream",
     "text": [
      "Run 14587 stable times cut efficiency = 100.000000%\n",
      "Run 14588 stable times cut efficiency = 100.000000%\n",
      "Run 14589 stable times cut efficiency = 100.000000%\n",
      "Run 14590 stable times cut efficiency = 100.000000%\n",
      "Run 14593 stable times cut efficiency = 100.000000%\n",
      "Run 14597 stable times cut efficiency = 100.000000%\n",
      "Run 14618 stable times cut efficiency = 100.000000%\n",
      "Run 14644 stable times cut efficiency = 100.000000%\n",
      "Run 14645 stable times cut efficiency = 100.000000%\n",
      "Run 14647 stable times cut efficiency = 100.000000%\n",
      "No root files found for run 14706\n",
      "Run 14733 stable times cut efficiency = 100.000000%\n",
      "Run 14743 stable times cut efficiency = 100.000000%\n",
      "Run 14758 stable times cut efficiency = 100.000000%\n",
      "Run 14760 stable times cut efficiency = 100.000000%\n",
      "Run 14763 stable times cut efficiency = 100.000000%\n",
      "Run 14764 stable times cut efficiency = 100.000000%\n",
      "Run 14765 stable times cut efficiency = 100.000000%\n",
      "Run 14766 stable times cut efficiency = 100.000000%\n",
      "Run 14767 stable times cut efficiency = 100.000000%\n",
      "Run 14769 stable times cut efficiency = 100.000000%\n",
      "Run 14771 stable times cut efficiency = 100.000000%\n",
      "Run 14776 stable times cut efficiency = 100.000000%\n",
      "Run 14777 stable times cut efficiency = 100.000000%\n",
      "Run 14797 stable times cut efficiency = 100.000000%\n",
      "Run 14799 stable times cut efficiency = 100.000000%\n",
      "Run 14804 stable times cut efficiency = 100.000000%\n",
      "Run 14809 stable times cut efficiency = 100.000000%\n",
      "Run 14810 stable times cut efficiency = 100.000000%\n",
      "Run 14904 stable times cut efficiency = 100.000000%\n",
      "Run 14905 stable times cut efficiency = 100.000000%\n",
      "Run 14906 stable times cut efficiency = 100.000000%\n",
      "Run 14954 stable times cut efficiency = 100.000000%\n",
      "Run 14971 stable times cut efficiency = 100.000000%\n",
      "Run 14972 stable times cut efficiency = 100.000000%\n",
      "Run 14973 stable times cut efficiency = 100.000000%\n",
      "Run 14974 stable times cut efficiency = 100.000000%\n",
      "Run 14975 stable times cut efficiency = 100.000000%\n",
      "Run 14976 stable times cut efficiency = 100.000000%\n",
      "Run 14977 stable times cut efficiency = 100.000000%\n",
      "Run 14980 stable times cut efficiency = 100.000000%\n",
      "Run 14981 stable times cut efficiency = 100.000000%\n",
      "Run 14985 stable times cut efficiency = 100.000000%\n",
      "Run 14989 stable times cut efficiency = 100.000000%\n",
      "Run 15007 stable times cut efficiency = 100.000000%\n",
      "Run 15015 stable times cut efficiency = 100.000000%\n",
      "Run 15016 stable times cut efficiency = 100.000000%\n",
      "Run 15023 stable times cut efficiency = 100.000000%\n",
      "Run 15024 stable times cut efficiency = 100.000000%\n",
      "Run 15025 stable times cut efficiency = 100.000000%\n",
      "Run 15031 stable times cut efficiency = 100.000000%\n",
      "Run 15032 stable times cut efficiency = 100.000000%\n",
      "Run 15034 stable times cut efficiency = 100.000000%\n",
      "Run 15050 stable times cut efficiency = 100.000000%\n",
      "Run 15051 stable times cut efficiency = 100.000000%\n",
      "Run 15052 stable times cut efficiency = 100.000000%\n"
     ]
    }
   ],
   "source": [
    "results = {}\n",
    "for run_number, run_info in tqdm(grl_dict.items()):\n",
    "    root_files = glob.glob(f\"/eos/experiment/faser/data0/phys/2024/r0022/0{run_number}/*.root\")\n",
    "\n",
    "    if len(root_files) == 0:\n",
    "        print(f\"No root files found for run {run_number}\")\n",
    "        continue\n",
    "\n",
    "    start_time = run_info['stable_list'][0]['start_utime']  # in principle `stable_list` could have multiple blocks but in this GRL there is only ever one per run\n",
    "    stop_time = run_info['stable_list'][0]['stop_utime']\n",
    "\n",
    "    data = uproot.concatenate(root_files, filter_name=['eventTime'])\n",
    "    eff = get_timing_cut_eff(data, start_time, stop_time)\n",
    "\n",
    "    results[run_number] = eff\n",
    "    print(f\"Run {run_number} stable times cut efficiency = {eff:.6%}\")"
   ]
  }
 ],
 "metadata": {
  "kernelspec": {
   "display_name": "geant4",
   "language": "python",
   "name": "python3"
  },
  "language_info": {
   "codemirror_mode": {
    "name": "ipython",
    "version": 3
   },
   "file_extension": ".py",
   "mimetype": "text/x-python",
   "name": "python",
   "nbconvert_exporter": "python",
   "pygments_lexer": "ipython3",
   "version": "3.11.11"
  }
 },
 "nbformat": 4,
 "nbformat_minor": 2
}
